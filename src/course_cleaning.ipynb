{
 "cells": [
  {
   "cell_type": "code",
   "execution_count": 1,
   "metadata": {},
   "outputs": [],
   "source": [
    "import pandas as pd"
   ]
  },
  {
   "cell_type": "code",
   "execution_count": 2,
   "metadata": {},
   "outputs": [
    {
     "name": "stdout",
     "output_type": "stream",
     "text": [
      "(19598, 10)\n"
     ]
    },
    {
     "data": {
      "text/html": [
       "<div>\n",
       "<style scoped>\n",
       "    .dataframe tbody tr th:only-of-type {\n",
       "        vertical-align: middle;\n",
       "    }\n",
       "\n",
       "    .dataframe tbody tr th {\n",
       "        vertical-align: top;\n",
       "    }\n",
       "\n",
       "    .dataframe thead th {\n",
       "        text-align: right;\n",
       "    }\n",
       "</style>\n",
       "<table border=\"1\" class=\"dataframe\">\n",
       "  <thead>\n",
       "    <tr style=\"text-align: right;\">\n",
       "      <th></th>\n",
       "      <th>campus</th>\n",
       "      <th>credits</th>\n",
       "      <th>day_period</th>\n",
       "      <th>degree</th>\n",
       "      <th>faculty</th>\n",
       "      <th>id</th>\n",
       "      <th>lecturers</th>\n",
       "      <th>subtitle</th>\n",
       "      <th>title_others</th>\n",
       "      <th>year_semester</th>\n",
       "    </tr>\n",
       "  </thead>\n",
       "  <tbody>\n",
       "    <tr>\n",
       "      <th>0</th>\n",
       "      <td>日吉</td>\n",
       "      <td>2.0</td>\n",
       "      <td>金１/金２/土７/日５</td>\n",
       "      <td>前期博士課程（修士課程）</td>\n",
       "      <td>経営管理研究科</td>\n",
       "      <td>['44788', '42781']</td>\n",
       "      <td>['小幡 績']</td>\n",
       "      <td>NaN</td>\n",
       "      <td>['Ａ．Ｔ．\\u3000Ｋｅａｒｎｅｙ\\u3000実践コンサルティングプロジェクト']</td>\n",
       "      <td>1学期</td>\n",
       "    </tr>\n",
       "    <tr>\n",
       "      <th>1</th>\n",
       "      <td>芝共立</td>\n",
       "      <td>0.5</td>\n",
       "      <td>木４</td>\n",
       "      <td>学士課程</td>\n",
       "      <td>薬学部</td>\n",
       "      <td>['43203', '13250']</td>\n",
       "      <td>['薬学部教授', '堀 里子', '薬学部助教', '木崎 速人']</td>\n",
       "      <td>NaN</td>\n",
       "      <td>['ＥＢＭの実践']</td>\n",
       "      <td>2019・春学期</td>\n",
       "    </tr>\n",
       "    <tr>\n",
       "      <th>2</th>\n",
       "      <td>三田</td>\n",
       "      <td>2.0</td>\n",
       "      <td>土３</td>\n",
       "      <td>学士課程</td>\n",
       "      <td>経済学部</td>\n",
       "      <td>['34895', '72901']</td>\n",
       "      <td>['市川 芳治']</td>\n",
       "      <td>Law and Economics</td>\n",
       "      <td>['ＥＵ競争法（ＰＣＰ）(EU COMPETITION LAW)']</td>\n",
       "      <td>2019・秋学期</td>\n",
       "    </tr>\n",
       "    <tr>\n",
       "      <th>3</th>\n",
       "      <td>三田</td>\n",
       "      <td>2.0</td>\n",
       "      <td>土３</td>\n",
       "      <td>学士課程</td>\n",
       "      <td>経済学部</td>\n",
       "      <td>['34895', '06245']</td>\n",
       "      <td>['市川 芳治']</td>\n",
       "      <td>Law and Economics</td>\n",
       "      <td>['ＥＵ競争法(PEARL)']</td>\n",
       "      <td>2019・秋学期</td>\n",
       "    </tr>\n",
       "    <tr>\n",
       "      <th>4</th>\n",
       "      <td>三田</td>\n",
       "      <td>2.0</td>\n",
       "      <td>土３</td>\n",
       "      <td>前期博士課程（修士課程）</td>\n",
       "      <td>経済学研究科</td>\n",
       "      <td>['34895', '63752']</td>\n",
       "      <td>['市川 芳治']</td>\n",
       "      <td>Law and Economics</td>\n",
       "      <td>['ＥＵ競争法(EU COMPETITION LAW)']</td>\n",
       "      <td>2019・秋学期</td>\n",
       "    </tr>\n",
       "  </tbody>\n",
       "</table>\n",
       "</div>"
      ],
      "text/plain": [
       "  campus  credits   day_period        degree  faculty                  id  \\\n",
       "0     日吉      2.0  金１/金２/土７/日５  前期博士課程（修士課程）  経営管理研究科  ['44788', '42781']   \n",
       "1    芝共立      0.5           木４          学士課程      薬学部  ['43203', '13250']   \n",
       "2     三田      2.0           土３          学士課程     経済学部  ['34895', '72901']   \n",
       "3     三田      2.0           土３          学士課程     経済学部  ['34895', '06245']   \n",
       "4     三田      2.0           土３  前期博士課程（修士課程）   経済学研究科  ['34895', '63752']   \n",
       "\n",
       "                             lecturers           subtitle  \\\n",
       "0                             ['小幡 績']                NaN   \n",
       "1  ['薬学部教授', '堀 里子', '薬学部助教', '木崎 速人']                NaN   \n",
       "2                            ['市川 芳治']  Law and Economics   \n",
       "3                            ['市川 芳治']  Law and Economics   \n",
       "4                            ['市川 芳治']  Law and Economics   \n",
       "\n",
       "                                  title_others year_semester  \n",
       "0  ['Ａ．Ｔ．\\u3000Ｋｅａｒｎｅｙ\\u3000実践コンサルティングプロジェクト']           1学期  \n",
       "1                                   ['ＥＢＭの実践']      2019・春学期  \n",
       "2           ['ＥＵ競争法（ＰＣＰ）(EU COMPETITION LAW)']      2019・秋学期  \n",
       "3                             ['ＥＵ競争法(PEARL)']      2019・秋学期  \n",
       "4                ['ＥＵ競争法(EU COMPETITION LAW)']      2019・秋学期  "
      ]
     },
     "execution_count": 2,
     "metadata": {},
     "output_type": "execute_result"
    }
   ],
   "source": [
    "pd.set_option(\"max_colwidth\", 1000)\n",
    "data = pd.read_csv(\"course_list.csv\", index_col=0)\n",
    "print(data.shape)\n",
    "data.head()"
   ]
  },
  {
   "cell_type": "code",
   "execution_count": 4,
   "metadata": {},
   "outputs": [
    {
     "data": {
      "text/plain": [
       "array(['1学期', '2019・春学期', '2019・秋学期', '2学期', '2019・秋学期集中', '2019・春学期集中',\n",
       "       '2019・通年', '3学期', '通年'], dtype=object)"
      ]
     },
     "execution_count": 4,
     "metadata": {},
     "output_type": "execute_result"
    }
   ],
   "source": [
    "data[\"year_semester\"].unique()"
   ]
  },
  {
   "cell_type": "code",
   "execution_count": null,
   "metadata": {},
   "outputs": [],
   "source": []
  }
 ],
 "metadata": {
  "kernelspec": {
   "display_name": "Python 3",
   "language": "python",
   "name": "python3"
  },
  "language_info": {
   "codemirror_mode": {
    "name": "ipython",
    "version": 3
   },
   "file_extension": ".py",
   "mimetype": "text/x-python",
   "name": "python",
   "nbconvert_exporter": "python",
   "pygments_lexer": "ipython3",
   "version": "3.6.8"
  }
 },
 "nbformat": 4,
 "nbformat_minor": 4
}
